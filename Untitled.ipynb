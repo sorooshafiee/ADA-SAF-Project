{
 "cells": [
  {
   "cell_type": "code",
   "execution_count": 1,
   "metadata": {
    "collapsed": true
   },
   "outputs": [],
   "source": [
    "from os import path\n",
    "from time import sleep, time\n",
    "import csv\n",
    "from urllib.request import urlretrieve\n",
    "import pandas as pd\n",
    "import matplotlib.pyplot as plt\n",
    "from datetime import datetime\n",
    "from geopy.geocoders import Nominatim\n",
    "import geopandas as gpd\n",
    "from shapely.geometry import Point, Polygon, MultiPolygon\n",
    "%matplotlib inline"
   ]
  },
  {
   "cell_type": "code",
   "execution_count": 2,
   "metadata": {
    "collapsed": false
   },
   "outputs": [
    {
     "name": "stdout",
     "output_type": "stream",
     "text": [
      "Reading sample.tsv file...\n",
      "is done!\n"
     ]
    }
   ],
   "source": [
    "# Read the csv file\n",
    "print('Reading sample.tsv file...')\n",
    "df = pd.read_csv(\n",
    "    path.join('data', 'sample.tsv'),\n",
    "    sep=\"\\t\",\n",
    "    encoding='utf-8',\n",
    "    escapechar='\\\\',\n",
    "    na_values='N',\n",
    "    quoting=csv.QUOTE_NONE,\n",
    "    header=None\n",
    ")\n",
    "print('is done!')"
   ]
  },
  {
   "cell_type": "code",
   "execution_count": 3,
   "metadata": {
    "collapsed": false
   },
   "outputs": [
    {
     "name": "stdout",
     "output_type": "stream",
     "text": [
      "Reading schema.txt file...\n",
      "is done!\n"
     ]
    }
   ],
   "source": [
    "print('Reading schema.txt file...')\n",
    "schema = pd.read_csv(\n",
    "    path.join('data', 'schema.txt'),\n",
    "    sep=\"\\s+\",\n",
    "    header =None\n",
    ")\n",
    "print('is done!')\n",
    "# Rename the dataframe columns\n",
    "df.columns = schema[1]"
   ]
  },
  {
   "cell_type": "code",
   "execution_count": 4,
   "metadata": {
    "collapsed": false
   },
   "outputs": [],
   "source": [
    "# Drop rows with NaN values in important columns\n",
    "df.dropna(\n",
    "    subset=['createdAt','placeLatitude','placeLongitude','userId'],\n",
    "    how='any',\n",
    "    inplace=True\n",
    ")"
   ]
  },
  {
   "cell_type": "code",
   "execution_count": 5,
   "metadata": {
    "collapsed": false
   },
   "outputs": [],
   "source": [
    "# Change the string in 'createdAt' column to datetime format\n",
    "df['createdAt'] = pd.to_datetime(\n",
    "    df['createdAt'],\n",
    "    format='%Y-%m-%d %H:%M:%S',\n",
    "    errors='coerce'\n",
    ")"
   ]
  },
  {
   "cell_type": "code",
   "execution_count": 6,
   "metadata": {
    "collapsed": false
   },
   "outputs": [],
   "source": [
    "# Remove useless columns\n",
    "df = df[['userId', 'createdAt','placeLatitude','placeLongitude']]"
   ]
  },
  {
   "cell_type": "markdown",
   "metadata": {},
   "source": [
    "In order to recover the cities location from latitude-longitude pairs, we use two different strategies:\n",
    "\n",
    "1. **online strategy:** we use the geopy API to send a request containing information about the longitude and latitude of a place. The main cumbersome here is that all these kind of online APIs have some kind of request rate limit, and as it is suggested in [its website](http://wiki.openstreetmap.org/wiki/Nominatim_usage_policy), the time between two consecutive request should be more that 1 seconds. This actually makes the online approach so slow. One remedy to accelerate the process is to save longitude-latitude: location pair to a dictionary. Thus, before sending a request, we first check whether we have the location in our dictionary or not.\n",
    "\n",
    "2. **offline strategy:** we can also use the geojson or topojson files for Switzerland and its neighbor countries. The corresponding geofiles are downloaded from the following github repositories:\n",
    "    1. Switzerland topojson file from [swiss_map repo](https://github.com/d-qn/swiss-maps).\n",
    "    2. France geojson file from [france-geojson repo](https://github.com/gregoiredavid/france-geojson).\n",
    "    3. Italy geojson file from [leaflet-geojson-selector repo](https://github.com/stefanocudini/leaflet-geojson-selector).\n",
    "    4. Germany geojson file from [deutschlandGeoJSON repo](https://github.com/isellsoap/deutschlandGeoJSON)\n",
    "    5. Austria geojson file from [click_that_hood repo](https://github.com/codeforamerica/click_that_hood).\n",
    "    6. Liechtenstein geojson file from [CountryGeoJSONCollection repo](https://github.com/LonnyGomes/CountryGeoJSONCollection).\n",
    "\n",
    "In general, for the offinle strategy, one can also follow this [stackoverflow response](http://stackoverflow.com/questions/6159074/given-the-lat-long-coordinates-how-can-we-find-out-the-city-country/6355183#6355183) or this [one](http://stackoverflow.com/a/24871449/5267664). The first one relies on the geoname database while the second one actually gives us a procedure to find geojson files for any country."
   ]
  },
  {
   "cell_type": "markdown",
   "metadata": {},
   "source": [
    "## 1. Online strategy:\n",
    "We start from the online strategy. The following function find the country together with its state/canton of a location. We will see later that we could do the same thing in the offline approach."
   ]
  },
  {
   "cell_type": "code",
   "execution_count": 25,
   "metadata": {
    "collapsed": false
   },
   "outputs": [],
   "source": [
    "# Function for finding a location from the latitude-longitude information using online API\n",
    "geolocator = Nominatim()\n",
    "locations = dict()\n",
    "def online_locating(data):\n",
    "    lat = str(data.placeLatitude)\n",
    "    lng = str(data.placeLongitude)\n",
    "    lookup = ','.join([lat, lng])\n",
    "    if lookup not in set(locations.keys()):\n",
    "        location = geolocator.reverse(lookup, language='en')        \n",
    "        try:\n",
    "            country = location.raw['address']['country_code'].upper()\n",
    "        except:\n",
    "            country = float('NaN')\n",
    "        try:\n",
    "            state = location.raw['address']['state']\n",
    "        except:\n",
    "            try:\n",
    "                state = location.raw['address']['country']\n",
    "            except:\n",
    "                state = float('NaN')\n",
    "        locations[lookup] = {'country': country, 'state': state}\n",
    "        sleep(1) # sleep for 1 sec (required by Nominatim usage policy)\n",
    "    return pd.Series({'country': locations[lookup]['country'],\n",
    "                      'state': locations[lookup]['state']})"
   ]
  },
  {
   "cell_type": "code",
   "execution_count": null,
   "metadata": {
    "collapsed": false
   },
   "outputs": [],
   "source": [
    "t = time()\n",
    "df[['country', 'state']] = df.apply(lambda x: online_locating(x), axis=1)\n",
    "elapsed = time() - t\n",
    "print('Elapsed time is ' + str(round(elapsed, 4)) + ' seconds.')"
   ]
  },
  {
   "cell_type": "markdown",
   "metadata": {},
   "source": [
    "As we can see, it took very long to even recover locations for the sample file. Hence, it does not make sense to follow the online approach for the actual problem."
   ]
  },
  {
   "cell_type": "markdown",
   "metadata": {},
   "source": [
    "## 2. Offline approach:\n",
    "As we mentioned before, it is necessary to download the required geojson/topojson file to run the offline approach. All files are available in data/geofiles folder. In this part, we use [gepandas](http://geopandas.org/) for furthur analysis. The resulting dataframes can be used to find the location of tweets."
   ]
  },
  {
   "cell_type": "code",
   "execution_count": 8,
   "metadata": {
    "collapsed": false
   },
   "outputs": [],
   "source": [
    "ch_gdf = gpd.read_file(path.join('data/geofiles', 'ch-cantons.json'))\n",
    "fr_gdf = gpd.read_file(path.join('data/geofiles', 'france-states.geojson'))\n",
    "it_gdf = gpd.read_file(path.join('data/geofiles', 'italy-states.json'))\n",
    "de_gdf = gpd.read_file(path.join('data/geofiles', 'germany-states.geojson'))\n",
    "at_gdf = gpd.read_file(path.join('data/geofiles', 'austria-states.geojson'))\n",
    "li_gdf = gpd.read_file(path.join('data/geofiles', 'liechtenstein.geojson'))"
   ]
  },
  {
   "cell_type": "code",
   "execution_count": 9,
   "metadata": {
    "collapsed": false
   },
   "outputs": [],
   "source": [
    "# Modify dataframes for merging\n",
    "ch_gdf = ch_gdf[['geometry', 'name']]\n",
    "ch_gdf['country'] = 'CH'\n",
    "\n",
    "fr_gdf = fr_gdf[['geometry', 'name']]\n",
    "fr_gdf['country'] = 'FR'\n",
    "\n",
    "it_gdf = it_gdf[['geometry', 'name']]\n",
    "it_gdf['country'] = 'IT'\n",
    "\n",
    "de_gdf = de_gdf[['geometry', 'NAME_1']]\n",
    "de_gdf = de_gdf.rename(columns={'NAME_1': 'name'})\n",
    "de_gdf['country'] = 'DE'\n",
    "\n",
    "at_gdf = at_gdf[['geometry', 'name']]\n",
    "at_gdf['country'] = 'AT'\n",
    "\n",
    "li_gdf = li_gdf[['geometry', 'NAME']]\n",
    "li_gdf = li_gdf.rename(columns={'NAME': 'name'})\n",
    "li_gdf['country'] = 'LI'\n",
    "\n",
    "gdf_poly = pd.concat([ch_gdf, fr_gdf, it_gdf, de_gdf, at_gdf], ignore_index=True)\n",
    "gdf_poly = gdf_poly.rename(columns={'name': 'state'})"
   ]
  },
  {
   "cell_type": "markdown",
   "metadata": {},
   "source": [
    "The R-tree structure in geopandas dataframe enables us to find the twitters location very fast. The following function find each location is inside which state/canton. A tutorial to show how to take advantages of R-tree structure is available [here](http://geoffboeing.com/2016/10/r-tree-spatial-index-python/#more-2183)."
   ]
  },
  {
   "cell_type": "code",
   "execution_count": 10,
   "metadata": {
    "collapsed": false
   },
   "outputs": [],
   "source": [
    "gdf_point = gpd.GeoDataFrame(df)\n",
    "gdf_point['geometry'] = df.apply(lambda row: Point(row.placeLongitude, row.placeLatitude), axis=1)\n",
    "gdf_point.crs = gdf_poly.crs"
   ]
  },
  {
   "cell_type": "code",
   "execution_count": 12,
   "metadata": {
    "collapsed": false
   },
   "outputs": [
    {
     "name": "stdout",
     "output_type": "stream",
     "text": [
      "Elapsed time is 2.2306 seconds.\n"
     ]
    }
   ],
   "source": [
    "t = time()\n",
    "gdf_join = gpd.tools.sjoin(gdf_point, gdf_poly, how=\"left\")\n",
    "elapsed = time() - t\n",
    "print('Elapsed time is ' + str(round(elapsed, 4)) + ' seconds.')"
   ]
  },
  {
   "cell_type": "code",
   "execution_count": 26,
   "metadata": {
    "collapsed": false
   },
   "outputs": [
    {
     "name": "stderr",
     "output_type": "stream",
     "text": [
      "C:\\Users\\shafieez\\AppData\\Local\\Continuum\\Anaconda3\\lib\\site-packages\\pandas\\core\\frame.py:2440: SettingWithCopyWarning: \n",
      "A value is trying to be set on a copy of a slice from a DataFrame.\n",
      "Try using .loc[row_indexer,col_indexer] = value instead\n",
      "\n",
      "See the caveats in the documentation: http://pandas.pydata.org/pandas-docs/stable/indexing.html#indexing-view-versus-copy\n",
      "  self[k1] = value[k2]\n"
     ]
    },
    {
     "data": {
      "text/html": [
       "<div>\n",
       "<table border=\"1\" class=\"dataframe\">\n",
       "  <thead>\n",
       "    <tr style=\"text-align: right;\">\n",
       "      <th></th>\n",
       "      <th>userId</th>\n",
       "      <th>createdAt</th>\n",
       "      <th>placeLatitude</th>\n",
       "      <th>placeLongitude</th>\n",
       "      <th>geometry</th>\n",
       "      <th>index_right</th>\n",
       "      <th>state</th>\n",
       "      <th>country</th>\n",
       "    </tr>\n",
       "  </thead>\n",
       "  <tbody>\n",
       "    <tr>\n",
       "      <th>1657</th>\n",
       "      <td>27945549</td>\n",
       "      <td>2016-09-16 00:18:22</td>\n",
       "      <td>47.1274</td>\n",
       "      <td>9.55536</td>\n",
       "      <td>POINT (9.55536 47.1274)</td>\n",
       "      <td>NaN</td>\n",
       "      <td>Liechtenstein</td>\n",
       "      <td>LI</td>\n",
       "    </tr>\n",
       "    <tr>\n",
       "      <th>1665</th>\n",
       "      <td>27945549</td>\n",
       "      <td>2016-09-16 00:19:36</td>\n",
       "      <td>47.1274</td>\n",
       "      <td>9.55536</td>\n",
       "      <td>POINT (9.55536 47.1274)</td>\n",
       "      <td>NaN</td>\n",
       "      <td>Liechtenstein</td>\n",
       "      <td>LI</td>\n",
       "    </tr>\n",
       "    <tr>\n",
       "      <th>1683</th>\n",
       "      <td>27945549</td>\n",
       "      <td>2016-09-16 00:22:50</td>\n",
       "      <td>47.1274</td>\n",
       "      <td>9.55536</td>\n",
       "      <td>POINT (9.55536 47.1274)</td>\n",
       "      <td>NaN</td>\n",
       "      <td>Liechtenstein</td>\n",
       "      <td>LI</td>\n",
       "    </tr>\n",
       "    <tr>\n",
       "      <th>1885</th>\n",
       "      <td>774694926135222272</td>\n",
       "      <td>2016-09-16 02:00:04</td>\n",
       "      <td>47.1407</td>\n",
       "      <td>9.55318</td>\n",
       "      <td>POINT (9.553180000000001 47.1407)</td>\n",
       "      <td>NaN</td>\n",
       "      <td>Liechtenstein</td>\n",
       "      <td>LI</td>\n",
       "    </tr>\n",
       "    <tr>\n",
       "      <th>2070</th>\n",
       "      <td>21033096</td>\n",
       "      <td>2016-09-16 04:15:06</td>\n",
       "      <td>47.7891</td>\n",
       "      <td>9.10436</td>\n",
       "      <td>POINT (9.10436 47.7891)</td>\n",
       "      <td>NaN</td>\n",
       "      <td>Baden-Württemberg</td>\n",
       "      <td>DE</td>\n",
       "    </tr>\n",
       "    <tr>\n",
       "      <th>2213</th>\n",
       "      <td>4567387397</td>\n",
       "      <td>2016-09-16 05:01:02</td>\n",
       "      <td>47.1407</td>\n",
       "      <td>9.55318</td>\n",
       "      <td>POINT (9.553180000000001 47.1407)</td>\n",
       "      <td>NaN</td>\n",
       "      <td>Liechtenstein</td>\n",
       "      <td>LI</td>\n",
       "    </tr>\n",
       "    <tr>\n",
       "      <th>2482</th>\n",
       "      <td>27945549</td>\n",
       "      <td>2016-09-16 05:46:30</td>\n",
       "      <td>47.1274</td>\n",
       "      <td>9.55536</td>\n",
       "      <td>POINT (9.55536 47.1274)</td>\n",
       "      <td>NaN</td>\n",
       "      <td>Liechtenstein</td>\n",
       "      <td>LI</td>\n",
       "    </tr>\n",
       "    <tr>\n",
       "      <th>2483</th>\n",
       "      <td>27945549</td>\n",
       "      <td>2016-09-16 05:47:12</td>\n",
       "      <td>47.1274</td>\n",
       "      <td>9.55536</td>\n",
       "      <td>POINT (9.55536 47.1274)</td>\n",
       "      <td>NaN</td>\n",
       "      <td>Liechtenstein</td>\n",
       "      <td>LI</td>\n",
       "    </tr>\n",
       "    <tr>\n",
       "      <th>2764</th>\n",
       "      <td>21033096</td>\n",
       "      <td>2016-09-16 06:20:12</td>\n",
       "      <td>47.5608</td>\n",
       "      <td>9.63686</td>\n",
       "      <td>POINT (9.63686 47.5608)</td>\n",
       "      <td>NaN</td>\n",
       "      <td>Free State of Bavaria</td>\n",
       "      <td>DE</td>\n",
       "    </tr>\n",
       "    <tr>\n",
       "      <th>3390</th>\n",
       "      <td>769995292041150465</td>\n",
       "      <td>2016-09-16 07:48:11</td>\n",
       "      <td>40.8171</td>\n",
       "      <td>28.00790</td>\n",
       "      <td>POINT (28.0079 40.8171)</td>\n",
       "      <td>NaN</td>\n",
       "      <td>Tekirdağ</td>\n",
       "      <td>TR</td>\n",
       "    </tr>\n",
       "    <tr>\n",
       "      <th>4453</th>\n",
       "      <td>41116723</td>\n",
       "      <td>2016-09-16 09:39:02</td>\n",
       "      <td>47.6741</td>\n",
       "      <td>9.28208</td>\n",
       "      <td>POINT (9.282080000000001 47.6741)</td>\n",
       "      <td>NaN</td>\n",
       "      <td>Baden-Württemberg</td>\n",
       "      <td>DE</td>\n",
       "    </tr>\n",
       "    <tr>\n",
       "      <th>5523</th>\n",
       "      <td>138069606</td>\n",
       "      <td>2016-09-16 11:22:08</td>\n",
       "      <td>47.0866</td>\n",
       "      <td>9.55808</td>\n",
       "      <td>POINT (9.55808 47.0866)</td>\n",
       "      <td>NaN</td>\n",
       "      <td>Liechtenstein</td>\n",
       "      <td>LI</td>\n",
       "    </tr>\n",
       "    <tr>\n",
       "      <th>5644</th>\n",
       "      <td>94768446</td>\n",
       "      <td>2016-09-16 11:35:33</td>\n",
       "      <td>47.1274</td>\n",
       "      <td>9.55536</td>\n",
       "      <td>POINT (9.55536 47.1274)</td>\n",
       "      <td>NaN</td>\n",
       "      <td>Liechtenstein</td>\n",
       "      <td>LI</td>\n",
       "    </tr>\n",
       "    <tr>\n",
       "      <th>6186</th>\n",
       "      <td>3086055838</td>\n",
       "      <td>2016-09-16 12:41:27</td>\n",
       "      <td>47.6587</td>\n",
       "      <td>9.34941</td>\n",
       "      <td>POINT (9.349410000000001 47.6587)</td>\n",
       "      <td>NaN</td>\n",
       "      <td>Baden-Württemberg</td>\n",
       "      <td>DE</td>\n",
       "    </tr>\n",
       "    <tr>\n",
       "      <th>6244</th>\n",
       "      <td>3086055838</td>\n",
       "      <td>2016-09-16 12:46:36</td>\n",
       "      <td>47.6587</td>\n",
       "      <td>9.34941</td>\n",
       "      <td>POINT (9.349410000000001 47.6587)</td>\n",
       "      <td>NaN</td>\n",
       "      <td>Baden-Württemberg</td>\n",
       "      <td>DE</td>\n",
       "    </tr>\n",
       "    <tr>\n",
       "      <th>6319</th>\n",
       "      <td>2303513785</td>\n",
       "      <td>2016-09-16 12:53:33</td>\n",
       "      <td>47.6890</td>\n",
       "      <td>9.25036</td>\n",
       "      <td>POINT (9.250360000000001 47.68899999999999)</td>\n",
       "      <td>NaN</td>\n",
       "      <td>Baden-Württemberg</td>\n",
       "      <td>DE</td>\n",
       "    </tr>\n",
       "    <tr>\n",
       "      <th>6438</th>\n",
       "      <td>4873551628</td>\n",
       "      <td>2016-09-16 13:06:39</td>\n",
       "      <td>47.7013</td>\n",
       "      <td>9.08128</td>\n",
       "      <td>POINT (9.08128 47.7013)</td>\n",
       "      <td>NaN</td>\n",
       "      <td>Baden-Württemberg</td>\n",
       "      <td>DE</td>\n",
       "    </tr>\n",
       "    <tr>\n",
       "      <th>6618</th>\n",
       "      <td>4873551628</td>\n",
       "      <td>2016-09-16 13:25:06</td>\n",
       "      <td>47.7013</td>\n",
       "      <td>9.08128</td>\n",
       "      <td>POINT (9.08128 47.7013)</td>\n",
       "      <td>NaN</td>\n",
       "      <td>Baden-Württemberg</td>\n",
       "      <td>DE</td>\n",
       "    </tr>\n",
       "    <tr>\n",
       "      <th>6725</th>\n",
       "      <td>211453919</td>\n",
       "      <td>2016-09-16 13:33:50</td>\n",
       "      <td>47.1407</td>\n",
       "      <td>9.55318</td>\n",
       "      <td>POINT (9.553180000000001 47.1407)</td>\n",
       "      <td>NaN</td>\n",
       "      <td>Liechtenstein</td>\n",
       "      <td>LI</td>\n",
       "    </tr>\n",
       "    <tr>\n",
       "      <th>8050</th>\n",
       "      <td>4417517752</td>\n",
       "      <td>2016-09-16 15:34:02</td>\n",
       "      <td>47.7013</td>\n",
       "      <td>9.08128</td>\n",
       "      <td>POINT (9.08128 47.7013)</td>\n",
       "      <td>NaN</td>\n",
       "      <td>Baden-Württemberg</td>\n",
       "      <td>DE</td>\n",
       "    </tr>\n",
       "    <tr>\n",
       "      <th>8114</th>\n",
       "      <td>3296507572</td>\n",
       "      <td>2016-09-16 15:39:50</td>\n",
       "      <td>47.2484</td>\n",
       "      <td>9.53409</td>\n",
       "      <td>POINT (9.534089999999999 47.2484)</td>\n",
       "      <td>NaN</td>\n",
       "      <td>Liechtenstein</td>\n",
       "      <td>LI</td>\n",
       "    </tr>\n",
       "    <tr>\n",
       "      <th>8187</th>\n",
       "      <td>4417517752</td>\n",
       "      <td>2016-09-16 15:46:58</td>\n",
       "      <td>47.7013</td>\n",
       "      <td>9.08128</td>\n",
       "      <td>POINT (9.08128 47.7013)</td>\n",
       "      <td>NaN</td>\n",
       "      <td>Baden-Württemberg</td>\n",
       "      <td>DE</td>\n",
       "    </tr>\n",
       "    <tr>\n",
       "      <th>8701</th>\n",
       "      <td>769455</td>\n",
       "      <td>2016-09-16 16:27:49</td>\n",
       "      <td>47.6890</td>\n",
       "      <td>9.25036</td>\n",
       "      <td>POINT (9.250360000000001 47.68899999999999)</td>\n",
       "      <td>NaN</td>\n",
       "      <td>Baden-Württemberg</td>\n",
       "      <td>DE</td>\n",
       "    </tr>\n",
       "    <tr>\n",
       "      <th>8739</th>\n",
       "      <td>769455</td>\n",
       "      <td>2016-09-16 16:30:43</td>\n",
       "      <td>47.6890</td>\n",
       "      <td>9.25036</td>\n",
       "      <td>POINT (9.250360000000001 47.68899999999999)</td>\n",
       "      <td>NaN</td>\n",
       "      <td>Baden-Württemberg</td>\n",
       "      <td>DE</td>\n",
       "    </tr>\n",
       "  </tbody>\n",
       "</table>\n",
       "</div>"
      ],
      "text/plain": [
       "                  userId           createdAt  placeLatitude  placeLongitude  \\\n",
       "1657            27945549 2016-09-16 00:18:22        47.1274         9.55536   \n",
       "1665            27945549 2016-09-16 00:19:36        47.1274         9.55536   \n",
       "1683            27945549 2016-09-16 00:22:50        47.1274         9.55536   \n",
       "1885  774694926135222272 2016-09-16 02:00:04        47.1407         9.55318   \n",
       "2070            21033096 2016-09-16 04:15:06        47.7891         9.10436   \n",
       "2213          4567387397 2016-09-16 05:01:02        47.1407         9.55318   \n",
       "2482            27945549 2016-09-16 05:46:30        47.1274         9.55536   \n",
       "2483            27945549 2016-09-16 05:47:12        47.1274         9.55536   \n",
       "2764            21033096 2016-09-16 06:20:12        47.5608         9.63686   \n",
       "3390  769995292041150465 2016-09-16 07:48:11        40.8171        28.00790   \n",
       "4453            41116723 2016-09-16 09:39:02        47.6741         9.28208   \n",
       "5523           138069606 2016-09-16 11:22:08        47.0866         9.55808   \n",
       "5644            94768446 2016-09-16 11:35:33        47.1274         9.55536   \n",
       "6186          3086055838 2016-09-16 12:41:27        47.6587         9.34941   \n",
       "6244          3086055838 2016-09-16 12:46:36        47.6587         9.34941   \n",
       "6319          2303513785 2016-09-16 12:53:33        47.6890         9.25036   \n",
       "6438          4873551628 2016-09-16 13:06:39        47.7013         9.08128   \n",
       "6618          4873551628 2016-09-16 13:25:06        47.7013         9.08128   \n",
       "6725           211453919 2016-09-16 13:33:50        47.1407         9.55318   \n",
       "8050          4417517752 2016-09-16 15:34:02        47.7013         9.08128   \n",
       "8114          3296507572 2016-09-16 15:39:50        47.2484         9.53409   \n",
       "8187          4417517752 2016-09-16 15:46:58        47.7013         9.08128   \n",
       "8701              769455 2016-09-16 16:27:49        47.6890         9.25036   \n",
       "8739              769455 2016-09-16 16:30:43        47.6890         9.25036   \n",
       "\n",
       "                                         geometry  index_right  \\\n",
       "1657                      POINT (9.55536 47.1274)          NaN   \n",
       "1665                      POINT (9.55536 47.1274)          NaN   \n",
       "1683                      POINT (9.55536 47.1274)          NaN   \n",
       "1885            POINT (9.553180000000001 47.1407)          NaN   \n",
       "2070                      POINT (9.10436 47.7891)          NaN   \n",
       "2213            POINT (9.553180000000001 47.1407)          NaN   \n",
       "2482                      POINT (9.55536 47.1274)          NaN   \n",
       "2483                      POINT (9.55536 47.1274)          NaN   \n",
       "2764                      POINT (9.63686 47.5608)          NaN   \n",
       "3390                      POINT (28.0079 40.8171)          NaN   \n",
       "4453            POINT (9.282080000000001 47.6741)          NaN   \n",
       "5523                      POINT (9.55808 47.0866)          NaN   \n",
       "5644                      POINT (9.55536 47.1274)          NaN   \n",
       "6186            POINT (9.349410000000001 47.6587)          NaN   \n",
       "6244            POINT (9.349410000000001 47.6587)          NaN   \n",
       "6319  POINT (9.250360000000001 47.68899999999999)          NaN   \n",
       "6438                      POINT (9.08128 47.7013)          NaN   \n",
       "6618                      POINT (9.08128 47.7013)          NaN   \n",
       "6725            POINT (9.553180000000001 47.1407)          NaN   \n",
       "8050                      POINT (9.08128 47.7013)          NaN   \n",
       "8114            POINT (9.534089999999999 47.2484)          NaN   \n",
       "8187                      POINT (9.08128 47.7013)          NaN   \n",
       "8701  POINT (9.250360000000001 47.68899999999999)          NaN   \n",
       "8739  POINT (9.250360000000001 47.68899999999999)          NaN   \n",
       "\n",
       "                      state country  \n",
       "1657          Liechtenstein      LI  \n",
       "1665          Liechtenstein      LI  \n",
       "1683          Liechtenstein      LI  \n",
       "1885          Liechtenstein      LI  \n",
       "2070      Baden-Württemberg      DE  \n",
       "2213          Liechtenstein      LI  \n",
       "2482          Liechtenstein      LI  \n",
       "2483          Liechtenstein      LI  \n",
       "2764  Free State of Bavaria      DE  \n",
       "3390               Tekirdağ      TR  \n",
       "4453      Baden-Württemberg      DE  \n",
       "5523          Liechtenstein      LI  \n",
       "5644          Liechtenstein      LI  \n",
       "6186      Baden-Württemberg      DE  \n",
       "6244      Baden-Württemberg      DE  \n",
       "6319      Baden-Württemberg      DE  \n",
       "6438      Baden-Württemberg      DE  \n",
       "6618      Baden-Württemberg      DE  \n",
       "6725          Liechtenstein      LI  \n",
       "8050      Baden-Württemberg      DE  \n",
       "8114          Liechtenstein      LI  \n",
       "8187      Baden-Württemberg      DE  \n",
       "8701      Baden-Württemberg      DE  \n",
       "8739      Baden-Württemberg      DE  "
      ]
     },
     "execution_count": 26,
     "metadata": {},
     "output_type": "execute_result"
    }
   ],
   "source": [
    "missing_points = gdf_join[gdf_join['state'].isnull()]\n",
    "missing_points[['country', 'state']] = missing_points.apply(lambda row: online_locating(row), axis=1)\n",
    "missing_points"
   ]
  },
  {
   "cell_type": "code",
   "execution_count": 19,
   "metadata": {
    "collapsed": false
   },
   "outputs": [
    {
     "data": {
      "text/plain": [
       "{'address': {'country': 'Switzerland',\n",
       "  'country_code': 'ch',\n",
       "  'neighbourhood': 'Obere Frutt',\n",
       "  'postcode': '6068',\n",
       "  'state': 'Obwalden',\n",
       "  'village': 'Melchsee-Frutt'},\n",
       " 'boundingbox': ['46.7757649', '46.7759649', '8.270663', '8.270863'],\n",
       " 'display_name': 'Obere Frutt, Melchsee-Frutt, Obwalden, 6068, Switzerland',\n",
       " 'lat': '46.7758649',\n",
       " 'licence': 'Data © OpenStreetMap contributors, ODbL 1.0. http://www.openstreetmap.org/copyright',\n",
       " 'lon': '8.270763',\n",
       " 'osm_id': '3828348035',\n",
       " 'osm_type': 'node',\n",
       " 'place_id': '51750707'}"
      ]
     },
     "execution_count": 19,
     "metadata": {},
     "output_type": "execute_result"
    }
   ],
   "source": [
    "location = geolocator.reverse('46.8131, 8.22414', language='en')\n",
    "location.raw"
   ]
  },
  {
   "cell_type": "code",
   "execution_count": 18,
   "metadata": {
    "collapsed": false
   },
   "outputs": [
    {
     "data": {
      "text/plain": [
       "0                 POINT (8.96044 46.0027)\n",
       "1                 POINT (8.22414 46.8131)\n",
       "2                  POINT (5.94082 47.201)\n",
       "3                 POINT (6.16552 45.8011)\n",
       "4                 POINT (6.14319 46.2048)\n",
       "5                 POINT (6.14319 46.2048)\n",
       "6                 POINT (8.96044 46.0027)\n",
       "7                 POINT (9.64878 45.8865)\n",
       "8                 POINT (8.77107 45.8327)\n",
       "9                   POINT (7.3448 47.717)\n",
       "10                POINT (8.96044 46.0027)\n",
       "11                POINT (7.39491 46.9543)\n",
       "12       POINT (9.770389999999999 47.367)\n",
       "13      POINT (8.806510000000001 45.8314)\n",
       "14                POINT (6.14319 46.2048)\n",
       "15      POINT (6.652080000000001 46.5287)\n",
       "16      POINT (8.536760000000001 47.3774)\n",
       "17                POINT (8.96044 46.0027)\n",
       "18                POINT (6.92537 46.4757)\n",
       "19                  POINT (7.3448 47.717)\n",
       "20      POINT (8.317210000000001 47.0408)\n",
       "21                POINT (8.94102 45.8056)\n",
       "22                POINT (8.96044 46.0027)\n",
       "23                POINT (6.60733 46.5594)\n",
       "24                POINT (7.21985 47.6028)\n",
       "25                POINT (6.09362 46.2088)\n",
       "26                POINT (8.96044 46.0027)\n",
       "27                POINT (6.11957 46.1496)\n",
       "28      POINT (6.133030000000001 46.2465)\n",
       "29      POINT (6.741960000000001 47.4906)\n",
       "                      ...                \n",
       "8760               POINT (5.94082 47.201)\n",
       "8761    POINT (8.085469999999999 47.3745)\n",
       "8762    POINT (7.014069999999999 46.2025)\n",
       "8763    POINT (7.014069999999999 46.2025)\n",
       "8764              POINT (8.58877 47.4582)\n",
       "8765                POINT (6.079 46.2322)\n",
       "8766    POINT (8.806510000000001 45.8314)\n",
       "8767               POINT (5.94082 47.201)\n",
       "8768    POINT (8.733029999999999 47.4987)\n",
       "8769              POINT (9.88592 45.8615)\n",
       "8770                POINT (7.3448 47.717)\n",
       "8771              POINT (8.96044 46.0027)\n",
       "8772    POINT (7.534489999999999 47.5455)\n",
       "8773    POINT (7.504869999999999 46.2763)\n",
       "8774              POINT (7.28274 47.7218)\n",
       "8775    POINT (7.504869999999999 46.2763)\n",
       "8776              POINT (6.16723 46.3707)\n",
       "8777              POINT (6.21703 46.1763)\n",
       "8778    POINT (7.05738 46.70399999999999)\n",
       "8779              POINT (8.52637 47.1354)\n",
       "8780              POINT (7.35819 47.7157)\n",
       "8781    POINT (8.317210000000001 47.0408)\n",
       "8782    POINT (8.317210000000001 47.0408)\n",
       "8783              POINT (8.68313 47.4412)\n",
       "8784              POINT (8.22414 46.8131)\n",
       "8785    POINT (8.67273 46.85100000000001)\n",
       "8786    POINT (8.317210000000001 47.0408)\n",
       "8787    POINT (6.546530000000001 46.0404)\n",
       "8788    POINT (8.806510000000001 45.8314)\n",
       "8789              POINT (6.19758 47.1425)\n",
       "Name: geometry, dtype: object"
      ]
     },
     "execution_count": 18,
     "metadata": {},
     "output_type": "execute_result"
    }
   ],
   "source": [
    "gdf_point['geometry']"
   ]
  },
  {
   "cell_type": "code",
   "execution_count": null,
   "metadata": {
    "collapsed": false
   },
   "outputs": [],
   "source": [
    "p1 = Point(.5,.5)\n",
    "p2 = Point(.5,1)\n",
    "p3 = Point(2,0)\n",
    "\n",
    "g1 = gpd.GeoSeries([p1,p2,p3])\n",
    "g2 = gpd.GeoSeries([p2,p3])\n",
    "sindex = g1.sindex\n",
    "g = gpd.GeoSeries([Polygon([(0,0), (0,2), (2,2), (2,0)])])\n",
    "possible_matches_index = list(sindex.intersection(g[0].bounds))\n",
    "possible_matches = g1.iloc[possible_matches_index]\n",
    "precise_matches = possible_matches[possible_matches.intersects(g[0])]\n",
    "precise_matches"
   ]
  },
  {
   "cell_type": "code",
   "execution_count": null,
   "metadata": {
    "collapsed": false
   },
   "outputs": [],
   "source": [
    "lat = df['placeLatitude'][0]\n",
    "lng = df['placeLongitude'][0]\n",
    "p = [Point(lat, lng), Point(lat, lng)]\n",
    "sindex = gdf.sindex\n",
    "possible_matches_index = list(sindex.intersection(p))"
   ]
  },
  {
   "cell_type": "code",
   "execution_count": null,
   "metadata": {
    "collapsed": false
   },
   "outputs": [],
   "source": [
    "if isinstance(gdf.geometry[0], Polygon):\n",
    "    print('yes')\n",
    "else:\n",
    "    print('no')\n",
    "type(gdf.geometry[0])"
   ]
  },
  {
   "cell_type": "code",
   "execution_count": null,
   "metadata": {
    "collapsed": false
   },
   "outputs": [],
   "source": [
    "sindex = gdf.sindex\n",
    "possible_matches_index = list(sindex.intersection(geometry.bounds))\n",
    "possible_matches = gdf_nodes.iloc[possible_matches_index]\n",
    "precise_matches = possible_matches[possible_matches.intersects(geometry)]"
   ]
  },
  {
   "cell_type": "code",
   "execution_count": null,
   "metadata": {
    "collapsed": true
   },
   "outputs": [],
   "source": []
  },
  {
   "cell_type": "code",
   "execution_count": null,
   "metadata": {
    "collapsed": true
   },
   "outputs": [],
   "source": [
    "import osmnx as ox\n",
    "import geopandas as gpd\n",
    "from descartes import PolygonPatch\n",
    "from shapely.geometry import Point, Polygon, MultiPolygon"
   ]
  },
  {
   "cell_type": "code",
   "execution_count": null,
   "metadata": {
    "collapsed": false
   },
   "outputs": [],
   "source": [
    "# get the boundary of some city\n",
    "gdf = ox.gdf_from_place('lausanne')\n",
    "\n",
    "# get the street network within this bounding box\n",
    "west, south, east, north = gdf.unary_union.buffer(0.1).bounds\n",
    "G = ox.graph_from_bbox(north, south, east, west, network_type='drive', retain_all=True)\n",
    "\n",
    "# get lat-long points for each intersection\n",
    "xy = [(data['x'], data['y']) for node, data in G.nodes(data=True)]\n",
    "x, y = list(zip(*xy))"
   ]
  },
  {
   "cell_type": "code",
   "execution_count": null,
   "metadata": {
    "collapsed": false
   },
   "outputs": [],
   "source": [
    "# turn the lat-long points into a geodataframe\n",
    "gdf_nodes = gpd.GeoDataFrame(data={'x':x, 'y':y})\n",
    "gdf_nodes.crs = gdf.crs\n",
    "gdf_nodes.name = 'nodes'\n",
    "gdf_nodes['geometry'] = gdf_nodes.apply(lambda row: Point((row['x'], row['y'])), axis=1)"
   ]
  },
  {
   "cell_type": "code",
   "execution_count": null,
   "metadata": {
    "collapsed": false
   },
   "outputs": [],
   "source": [
    "geometry = gdf['geometry'][0]\n",
    "geometry"
   ]
  },
  {
   "cell_type": "code",
   "execution_count": null,
   "metadata": {
    "collapsed": false
   },
   "outputs": [],
   "source": [
    "if isinstance(geometry, Polygon):\n",
    "    geometry = MultiPolygon([geometry])"
   ]
  },
  {
   "cell_type": "code",
   "execution_count": null,
   "metadata": {
    "collapsed": false
   },
   "outputs": [],
   "source": [
    "west, south, east, north = gdf.unary_union.bounds"
   ]
  },
  {
   "cell_type": "code",
   "execution_count": null,
   "metadata": {
    "collapsed": false
   },
   "outputs": [],
   "source": [
    "west, south, east, north = gdf.unary_union.bounds\n",
    "fig, ax = plt.subplots(figsize=(6,6))\n",
    "for polygon in geometry:\n",
    "    print('yes')\n",
    "    patch = PolygonPatch(polygon, fc='#cccccc', ec='k', alpha=0.5, zorder=2)\n",
    "    ax.add_patch(patch)\n",
    "    \n",
    "ax.set_xlim(west, east)\n",
    "ax.set_ylim(south, north)\n",
    "ax.axis('off')\n",
    "plt.show()"
   ]
  },
  {
   "cell_type": "code",
   "execution_count": null,
   "metadata": {
    "collapsed": false
   },
   "outputs": [],
   "source": [
    "my_gpd = gpd.read_file(path.join('data', 'ch.json'), layer='municipalities')"
   ]
  },
  {
   "cell_type": "code",
   "execution_count": null,
   "metadata": {
    "collapsed": true
   },
   "outputs": [],
   "source": [
    "a = float('NaN')"
   ]
  },
  {
   "cell_type": "code",
   "execution_count": 20,
   "metadata": {
    "collapsed": false
   },
   "outputs": [],
   "source": [
    "a = 'asdasdasd'"
   ]
  },
  {
   "cell_type": "code",
   "execution_count": 21,
   "metadata": {
    "collapsed": false
   },
   "outputs": [
    {
     "data": {
      "text/plain": [
       "'ASDASDASD'"
      ]
     },
     "execution_count": 21,
     "metadata": {},
     "output_type": "execute_result"
    }
   ],
   "source": [
    "a.upper()"
   ]
  },
  {
   "cell_type": "code",
   "execution_count": null,
   "metadata": {
    "collapsed": true
   },
   "outputs": [],
   "source": []
  }
 ],
 "metadata": {
  "anaconda-cloud": {},
  "kernelspec": {
   "display_name": "Python [default]",
   "language": "python",
   "name": "python3"
  },
  "language_info": {
   "codemirror_mode": {
    "name": "ipython",
    "version": 3
   },
   "file_extension": ".py",
   "mimetype": "text/x-python",
   "name": "python",
   "nbconvert_exporter": "python",
   "pygments_lexer": "ipython3",
   "version": "3.5.2"
  }
 },
 "nbformat": 4,
 "nbformat_minor": 1
}
