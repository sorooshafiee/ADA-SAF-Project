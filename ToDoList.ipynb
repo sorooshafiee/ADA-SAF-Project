{
 "cells": [
  {
   "cell_type": "markdown",
   "metadata": {},
   "source": [
    "# To Do List\n",
    "## Farnood:\n",
    "### Visulaize the locations (langtitude, latitude) on the map.\n",
    "### Try to find out the name of the location\n",
    "\n",
    "## Surush\n",
    "### Based on the userId and  time (createdAt) try to find out from where to where the user moved and its time, this is easy as the time is already sorted.\n",
    "\n",
    "## Araz\n",
    "### See if you can find a way to find the routes between the cities, for example what is the path between a geolocation in Lausanne and Geneve (A1 highway), Something like Table.\n",
    "\n",
    "\n",
    "## Other possible to do list if you finish the tasks (please update this if you have other things in mind):\n",
    "### Process the text and find the ones that are English and French.\n",
    "### Probably most of them are french, try to see if there is any package to handle french or an API to translate them to english.\n",
    "### Find if there is any accident\n"
   ]
  },
  {
   "cell_type": "code",
   "execution_count": null,
   "metadata": {
    "collapsed": true
   },
   "outputs": [],
   "source": []
  }
 ],
 "metadata": {
  "anaconda-cloud": {},
  "kernelspec": {
   "display_name": "Python [default]",
   "language": "python",
   "name": "python3"
  },
  "language_info": {
   "codemirror_mode": {
    "name": "ipython",
    "version": 3
   },
   "file_extension": ".py",
   "mimetype": "text/x-python",
   "name": "python",
   "nbconvert_exporter": "python",
   "pygments_lexer": "ipython3",
   "version": "3.5.2"
  }
 },
 "nbformat": 4,
 "nbformat_minor": 0
}
